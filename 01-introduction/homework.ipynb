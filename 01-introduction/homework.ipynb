{
 "cells": [
  {
   "cell_type": "code",
   "execution_count": null,
   "id": "575f4c71-8219-4d3e-be8a-bff078ce80cf",
   "metadata": {},
   "outputs": [],
   "source": [
    "import pandas as pd\n",
    "import sklearn\n",
    "import os\n",
    "import pyarrow"
   ]
  },
  {
   "cell_type": "code",
   "execution_count": 2,
   "id": "96353867-c520-4853-91c6-dcd5452e8fdf",
   "metadata": {},
   "outputs": [
    {
     "name": "stdout",
     "output_type": "stream",
     "text": [
      "January data already present\n",
      "February data already present\n"
     ]
    }
   ],
   "source": [
    "# download taxi data for Jan and Feb 2023\n",
    "url_yellow_january = 'https://d37ci6vzurychx.cloudfront.net/trip-data/yellow_tripdata_2023-01.parquet'\n",
    "url_yellow_february = 'https://d37ci6vzurychx.cloudfront.net/trip-data/yellow_tripdata_2023-02.parquet'\n",
    "file_taxi_january = 'yellow_tripdata_2023-01.parquet'\n",
    "file_taxi_february = 'yellow_tripdata_2023-02.parquet'\n",
    "\n",
    "\n",
    "if file_taxi_january not in os.listdir('.'):\n",
    "    os.environ['DOWNLOAD_YT_JAN'] = url_yellow_january\n",
    "    !wget $DOWNLOAD_YT_JAN\n",
    "else:\n",
    "    print('January data already present')\n",
    "\n",
    "if file_taxi_february not in os.listdir('.'):\n",
    "    os.environ['DOWNLOAD_YT_FEB'] = url_yellow_february\n",
    "    !wget $DOWNLOAD_YT_FEB\n",
    "else:\n",
    "    print('February data already present')\n",
    "    \n"
   ]
  },
  {
   "cell_type": "code",
   "execution_count": null,
   "id": "feef9ebe-cdd5-49c1-8e95-c41bcac6d1c4",
   "metadata": {},
   "outputs": [],
   "source": [
    "# create a dataframe\n",
    "df = pd.read_parquet(file_taxi_january, engine='pyarrow')"
   ]
  }
 ],
 "metadata": {
  "kernelspec": {
   "display_name": "Python 3 (ipykernel)",
   "language": "python",
   "name": "python3"
  },
  "language_info": {
   "codemirror_mode": {
    "name": "ipython",
    "version": 3
   },
   "file_extension": ".py",
   "mimetype": "text/x-python",
   "name": "python",
   "nbconvert_exporter": "python",
   "pygments_lexer": "ipython3",
   "version": "3.10.13"
  }
 },
 "nbformat": 4,
 "nbformat_minor": 5
}
